{
 "cells": [
  {
   "cell_type": "markdown",
   "id": "e385ce46-a1f1-439a-a532-77a7d8feaff0",
   "metadata": {},
   "source": [
    "# tnakatani.github.io\n",
    "\n",
    "## Course Notes\n",
    "\n",
    "- [CS7646 - Machine Learning for Trading](https://tnakatani.github.io/omscs/cs7646/cs7646_notes.html)\n",
    "- [CS7637 - Knowledge-based AI](https://tnakatani.github.io/omscs/cs7637/cs7637_notes.html)\n",
    "- [ISYE6501 - Introduction to Analytics Modeling](https://tnakatani.github.io/omscs/isye6501/isye6501_notes.html)"
   ]
  },
  {
   "cell_type": "code",
   "execution_count": null,
   "id": "d1b50ea6-0a43-4464-a9df-362bea9a4bdc",
   "metadata": {},
   "outputs": [],
   "source": []
  }
 ],
 "metadata": {
  "kernelspec": {
   "display_name": "Python 3 (ipykernel)",
   "language": "python",
   "name": "python3"
  },
  "language_info": {
   "codemirror_mode": {
    "name": "ipython",
    "version": 3
   },
   "file_extension": ".py",
   "mimetype": "text/x-python",
   "name": "python",
   "nbconvert_exporter": "python",
   "pygments_lexer": "ipython3",
   "version": "3.8.13"
  }
 },
 "nbformat": 4,
 "nbformat_minor": 5
}
